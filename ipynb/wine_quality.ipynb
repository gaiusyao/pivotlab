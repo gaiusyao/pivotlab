{
 "cells": [
  {
   "cell_type": "code",
   "execution_count": 1,
   "metadata": {},
   "outputs": [
    {
     "name": "stderr",
     "output_type": "stream",
     "text": [
      "E:\\IDE\\anaconda3\\lib\\site-packages\\statsmodels\\compat\\pandas.py:56: FutureWarning: The pandas.core.datetools module is deprecated and will be removed in a future version. Please use the pandas.tseries module instead.\n",
      "  from pandas.core import datetools\n"
     ]
    },
    {
     "name": "stdout",
     "output_type": "stream",
     "text": [
      "  type  fixed_acidity  volatile_acidity  citric_acid  residual_sugar  \\\n",
      "0  red            7.4              0.70         0.00             1.9   \n",
      "1  red            7.8              0.88         0.00             2.6   \n",
      "2  red            7.8              0.76         0.04             2.3   \n",
      "3  red           11.2              0.28         0.56             1.9   \n",
      "4  red            7.4              0.70         0.00             1.9   \n",
      "\n",
      "   chlorides  free_sulfur_dioxide  total_sulfur_dioxide  density    pH  \\\n",
      "0      0.076                 11.0                  34.0   0.9978  3.51   \n",
      "1      0.098                 25.0                  67.0   0.9968  3.20   \n",
      "2      0.092                 15.0                  54.0   0.9970  3.26   \n",
      "3      0.075                 17.0                  60.0   0.9980  3.16   \n",
      "4      0.076                 11.0                  34.0   0.9978  3.51   \n",
      "\n",
      "   sulphates  alcohol  quality  \n",
      "0       0.56      9.4        5  \n",
      "1       0.68      9.8        5  \n",
      "2       0.65      9.8        5  \n",
      "3       0.58      9.8        6  \n",
      "4       0.56      9.4        5  \n"
     ]
    }
   ],
   "source": [
    "#!/usr/bin/env python3\n",
    "import numpy as np\n",
    "import pandas as pd\n",
    "import seaborn as sns\n",
    "import matplotlib.pyplot as plt\n",
    "import statsmodels.api as sm\n",
    "import statsmodels.formula.api as smf\n",
    "from statsmodels.formula.api import ols, glm\n",
    "\n",
    "# 将数据集读入到pandas数据框中\n",
    "wine = pd.read_csv('csv\\winequality-both.csv', sep=',', header=0)\n",
    "wine.columns = wine.columns.str.replace(' ', '_')\n",
    "print(wine.head())"
   ]
  },
  {
   "cell_type": "code",
   "execution_count": 2,
   "metadata": {},
   "outputs": [
    {
     "name": "stdout",
     "output_type": "stream",
     "text": [
      "       fixed_acidity  volatile_acidity  citric_acid  residual_sugar  \\\n",
      "count    6497.000000       6497.000000  6497.000000     6497.000000   \n",
      "mean        7.215307          0.339666     0.318633        5.443235   \n",
      "std         1.296434          0.164636     0.145318        4.757804   \n",
      "min         3.800000          0.080000     0.000000        0.600000   \n",
      "25%         6.400000          0.230000     0.250000        1.800000   \n",
      "50%         7.000000          0.290000     0.310000        3.000000   \n",
      "75%         7.700000          0.400000     0.390000        8.100000   \n",
      "max        15.900000          1.580000     1.660000       65.800000   \n",
      "\n",
      "         chlorides  free_sulfur_dioxide  total_sulfur_dioxide      density  \\\n",
      "count  6497.000000          6497.000000           6497.000000  6497.000000   \n",
      "mean      0.056034            30.525319            115.744574     0.994697   \n",
      "std       0.035034            17.749400             56.521855     0.002999   \n",
      "min       0.009000             1.000000              6.000000     0.987110   \n",
      "25%       0.038000            17.000000             77.000000     0.992340   \n",
      "50%       0.047000            29.000000            118.000000     0.994890   \n",
      "75%       0.065000            41.000000            156.000000     0.996990   \n",
      "max       0.611000           289.000000            440.000000     1.038980   \n",
      "\n",
      "                pH    sulphates      alcohol      quality  \n",
      "count  6497.000000  6497.000000  6497.000000  6497.000000  \n",
      "mean      3.218501     0.531268    10.491801     5.818378  \n",
      "std       0.160787     0.148806     1.192712     0.873255  \n",
      "min       2.720000     0.220000     8.000000     3.000000  \n",
      "25%       3.110000     0.430000     9.500000     5.000000  \n",
      "50%       3.210000     0.510000    10.300000     6.000000  \n",
      "75%       3.320000     0.600000    11.300000     6.000000  \n",
      "max       4.010000     2.000000    14.900000     9.000000  \n"
     ]
    }
   ],
   "source": [
    "#显示所有变量的描述性统计量\n",
    "print(wine.describe())"
   ]
  },
  {
   "cell_type": "code",
   "execution_count": 3,
   "metadata": {},
   "outputs": [
    {
     "name": "stdout",
     "output_type": "stream",
     "text": [
      "[3, 4, 5, 6, 7, 8, 9]\n"
     ]
    }
   ],
   "source": [
    "#找出唯一值\n",
    "print(sorted(wine.quality.unique()))"
   ]
  },
  {
   "cell_type": "code",
   "execution_count": 4,
   "metadata": {},
   "outputs": [
    {
     "name": "stdout",
     "output_type": "stream",
     "text": [
      "6    2836\n",
      "5    2138\n",
      "7    1079\n",
      "4     216\n",
      "8     193\n",
      "3      30\n",
      "9       5\n",
      "Name: quality, dtype: int64\n"
     ]
    }
   ],
   "source": [
    "# 计算值的频率\n",
    "print(wine.quality.value_counts())"
   ]
  },
  {
   "cell_type": "code",
   "execution_count": 5,
   "metadata": {},
   "outputs": [
    {
     "name": "stdout",
     "output_type": "stream",
     "text": [
      "                type \n",
      "alcohol  count  red      1599.000000\n",
      "                white    4898.000000\n",
      "         mean   red        10.422983\n",
      "                white      10.514267\n",
      "         std    red         1.065668\n",
      "                white       1.230621\n",
      "         min    red         8.400000\n",
      "                white       8.000000\n",
      "         25%    red         9.500000\n",
      "                white       9.500000\n",
      "         50%    red        10.200000\n",
      "                white      10.400000\n",
      "         75%    red        11.100000\n",
      "                white      11.400000\n",
      "         max    red        14.900000\n",
      "                white      14.200000\n",
      "dtype: float64\n"
     ]
    }
   ],
   "source": [
    "# 按照葡萄酒类型显示质量的描述性统计量\n",
    "print(wine.groupby('type')[['alcohol']].describe().unstack('type'))"
   ]
  },
  {
   "cell_type": "code",
   "execution_count": 6,
   "metadata": {},
   "outputs": [
    {
     "name": "stdout",
     "output_type": "stream",
     "text": [
      "     quality      \n",
      "type     red white\n",
      "0.25     5.0   5.0\n",
      "0.75     6.0   6.0\n"
     ]
    }
   ],
   "source": [
    "# 按照葡萄酒类型显示质量的特定分位数值\n",
    "print(wine.groupby('type')[['quality']].quantile([0.25, 0.75]).unstack('type'))"
   ]
  },
  {
   "cell_type": "code",
   "execution_count": 7,
   "metadata": {},
   "outputs": [
    {
     "name": "stdout",
     "output_type": "stream",
     "text": [
      "                      fixed_acidity  volatile_acidity  citric_acid  \\\n",
      "fixed_acidity              1.000000          0.219008     0.324436   \n",
      "volatile_acidity           0.219008          1.000000    -0.377981   \n",
      "citric_acid                0.324436         -0.377981     1.000000   \n",
      "residual_sugar            -0.111981         -0.196011     0.142451   \n",
      "chlorides                  0.298195          0.377124     0.038998   \n",
      "free_sulfur_dioxide       -0.282735         -0.352557     0.133126   \n",
      "total_sulfur_dioxide      -0.329054         -0.414476     0.195242   \n",
      "density                    0.458910          0.271296     0.096154   \n",
      "pH                        -0.252700          0.261454    -0.329808   \n",
      "sulphates                  0.299568          0.225984     0.056197   \n",
      "alcohol                   -0.095452         -0.037640    -0.010493   \n",
      "quality                   -0.076743         -0.265699     0.085532   \n",
      "\n",
      "                      residual_sugar  chlorides  free_sulfur_dioxide  \\\n",
      "fixed_acidity              -0.111981   0.298195            -0.282735   \n",
      "volatile_acidity           -0.196011   0.377124            -0.352557   \n",
      "citric_acid                 0.142451   0.038998             0.133126   \n",
      "residual_sugar              1.000000  -0.128940             0.402871   \n",
      "chlorides                  -0.128940   1.000000            -0.195045   \n",
      "free_sulfur_dioxide         0.402871  -0.195045             1.000000   \n",
      "total_sulfur_dioxide        0.495482  -0.279630             0.720934   \n",
      "density                     0.552517   0.362615             0.025717   \n",
      "pH                         -0.267320   0.044708            -0.145854   \n",
      "sulphates                  -0.185927   0.395593            -0.188457   \n",
      "alcohol                    -0.359415  -0.256916            -0.179838   \n",
      "quality                    -0.036980  -0.200666             0.055463   \n",
      "\n",
      "                      total_sulfur_dioxide   density        pH  sulphates  \\\n",
      "fixed_acidity                    -0.329054  0.458910 -0.252700   0.299568   \n",
      "volatile_acidity                 -0.414476  0.271296  0.261454   0.225984   \n",
      "citric_acid                       0.195242  0.096154 -0.329808   0.056197   \n",
      "residual_sugar                    0.495482  0.552517 -0.267320  -0.185927   \n",
      "chlorides                        -0.279630  0.362615  0.044708   0.395593   \n",
      "free_sulfur_dioxide               0.720934  0.025717 -0.145854  -0.188457   \n",
      "total_sulfur_dioxide              1.000000  0.032395 -0.238413  -0.275727   \n",
      "density                           0.032395  1.000000  0.011686   0.259478   \n",
      "pH                               -0.238413  0.011686  1.000000   0.192123   \n",
      "sulphates                        -0.275727  0.259478  0.192123   1.000000   \n",
      "alcohol                          -0.265740 -0.686745  0.121248  -0.003029   \n",
      "quality                          -0.041385 -0.305858  0.019506   0.038485   \n",
      "\n",
      "                       alcohol   quality  \n",
      "fixed_acidity        -0.095452 -0.076743  \n",
      "volatile_acidity     -0.037640 -0.265699  \n",
      "citric_acid          -0.010493  0.085532  \n",
      "residual_sugar       -0.359415 -0.036980  \n",
      "chlorides            -0.256916 -0.200666  \n",
      "free_sulfur_dioxide  -0.179838  0.055463  \n",
      "total_sulfur_dioxide -0.265740 -0.041385  \n",
      "density              -0.686745 -0.305858  \n",
      "pH                    0.121248  0.019506  \n",
      "sulphates            -0.003029  0.038485  \n",
      "alcohol               1.000000  0.444319  \n",
      "quality               0.444319  1.000000  \n"
     ]
    }
   ],
   "source": [
    "# 计算所有变量的相关矩阵\n",
    "print(wine.corr())"
   ]
  },
  {
   "cell_type": "code",
   "execution_count": 8,
   "metadata": {},
   "outputs": [
    {
     "name": "stdout",
     "output_type": "stream",
     "text": [
      "AxesSubplot(0.125,0.125;0.775x0.755)\n",
      "AxesSubplot(0.125,0.125;0.775x0.755)\n"
     ]
    },
    {
     "data": {
      "image/png": "[encoded data removed]",
      "text/plain": [
       "<matplotlib.figure.Figure at 0x2e741072e48>"
      ]
     },
     "metadata": {},
     "output_type": "display_data"
    }
   ],
   "source": [
    "# 按照葡萄酒类型查看质量分布\n",
    "red_wine = wine.loc[wine['type']=='red', 'quality']\n",
    "white_wine = wine.loc[wine['type']=='white', 'quality']\n",
    "sns.set_style(\"dark\")\n",
    "print(sns.distplot(red_wine, \\\n",
    "norm_hist=True, kde=False, color=\"red\", label=\"Red wine\", axlabel=False))\n",
    "print(sns.distplot(white_wine, \\\n",
    "norm_hist=True, kde=False, color=\"white\", label=\"White wine\", axlabel=False))\n",
    "plt.title(\"Distribution of Quality by Wine Type\")\n",
    "plt.legend()\n",
    "plt.show()"
   ]
  },
  {
   "cell_type": "code",
   "execution_count": 9,
   "metadata": {},
   "outputs": [
    {
     "name": "stdout",
     "output_type": "stream",
     "text": [
      "        quality\n",
      "            std\n",
      "type           \n",
      "red    0.807569\n",
      "white  0.885639\n",
      "tstat: -9.686 pvalue: 0.0000\n"
     ]
    }
   ],
   "source": [
    "# 检验红葡萄酒和白葡萄酒的平均质量是否有所不同\n",
    "print(wine.groupby(['type'])[['quality']].agg(['std']))\n",
    "tstat, pvalue, df = sm.stats.ttest_ind(red_wine, white_wine)\n",
    "print('tstat: %.3f pvalue: %.4f' % (tstat, pvalue))"
   ]
  },
  {
   "cell_type": "code",
   "execution_count": 10,
   "metadata": {},
   "outputs": [
    {
     "name": "stdout",
     "output_type": "stream",
     "text": [
      "type        red  white   All\n",
      "in_sample                   \n",
      "0.0        1399   4698  6097\n",
      "1.0         200    200   400\n",
      "All        1599   4898  6497\n"
     ]
    }
   ],
   "source": [
    "# 从红葡萄酒和白葡萄酒的数据中取出一个“小”样本来进行绘图\n",
    "def take_sample(data_frame, replace=False, n=200):\n",
    "    return data_frame.loc[np.random.choice(data_frame.index, replace=replace, size=n)]\n",
    "reds_sample = take_sample(wine.loc[wine['type']=='red', :])\n",
    "whites_sample = take_sample(wine.loc[wine['type']=='white', :])\n",
    "wine_sample = pd.concat([reds_sample, whites_sample])\n",
    "wine['in_sample'] = np.where(wine.index.isin(wine_sample.index), 1.,0.)\n",
    "print(pd.crosstab(wine.in_sample, wine.type, margins=True))"
   ]
  },
  {
   "cell_type": "code",
   "execution_count": 11,
   "metadata": {},
   "outputs": [
    {
     "name": "stdout",
     "output_type": "stream",
     "text": [
      "<seaborn.axisgrid.PairGrid object at 0x000002E7414E7048>\n"
     ]
    },
    {
     "data": {
      "image/png": "[encoded data removed]",
      "text/plain": [
       "<matplotlib.figure.Figure at 0x2e7414e7ac8>"
      ]
     },
     "metadata": {},
     "output_type": "display_data"
    }
   ],
   "source": [
    "# 查看成对变量之间的关系\n",
    "sns.set_style(\"dark\")\n",
    "g = sns.pairplot(wine_sample, kind='reg', plot_kws={\"ci\": False,\\\n",
    "\"x_jitter\": 0.25, \"y_jitter\": 0.25}, hue='type', diag_kind='hist',\\\n",
    "diag_kws={\"bins\": 10, \"alpha\": 1.0}, palette=dict(red=\"red\", white=\"white\"),\\\n",
    "markers=[\"o\", \"s\"], vars=['quality', 'alcohol', 'residual_sugar'])\n",
    "print(g)\n",
    "plt.suptitle('Histograms and Scatter Plots of Quality, Alcohol, and Residual\\\n",
    "Sugar', fontsize=14, horizontalalignment='center', verticalalignment='top',\\\n",
    "x=0.5, y=0.999)\n",
    "plt.show()"
   ]
  },
  {
   "cell_type": "code",
   "execution_count": 12,
   "metadata": {},
   "outputs": [
    {
     "name": "stdout",
     "output_type": "stream",
     "text": [
      "                            OLS Regression Results                            \n",
      "==============================================================================\n",
      "Dep. Variable:                quality   R-squared:                       0.292\n",
      "Model:                            OLS   Adj. R-squared:                  0.291\n",
      "Method:                 Least Squares   F-statistic:                     243.3\n",
      "Date:                Thu, 09 Nov 2017   Prob (F-statistic):               0.00\n",
      "Time:                        08:35:41   Log-Likelihood:                -7215.5\n",
      "No. Observations:                6497   AIC:                         1.445e+04\n",
      "Df Residuals:                    6485   BIC:                         1.454e+04\n",
      "Df Model:                          11                                         \n",
      "Covariance Type:            nonrobust                                         \n",
      "========================================================================================\n",
      "                           coef    std err          t      P>|t|      [0.025      0.975]\n",
      "----------------------------------------------------------------------------------------\n",
      "Intercept               55.7627     11.894      4.688      0.000      32.447      79.079\n",
      "alcohol                  0.2670      0.017     15.963      0.000       0.234       0.300\n",
      "chlorides               -0.4837      0.333     -1.454      0.146      -1.136       0.168\n",
      "citric_acid             -0.1097      0.080     -1.377      0.168      -0.266       0.046\n",
      "density                -54.9669     12.137     -4.529      0.000     -78.760     -31.173\n",
      "fixed_acidity            0.0677      0.016      4.346      0.000       0.037       0.098\n",
      "free_sulfur_dioxide      0.0060      0.001      7.948      0.000       0.004       0.007\n",
      "pH                       0.4393      0.090      4.861      0.000       0.262       0.616\n",
      "residual_sugar           0.0436      0.005      8.449      0.000       0.033       0.054\n",
      "sulphates                0.7683      0.076     10.092      0.000       0.619       0.917\n",
      "total_sulfur_dioxide    -0.0025      0.000     -8.969      0.000      -0.003      -0.002\n",
      "volatile_acidity        -1.3279      0.077    -17.162      0.000      -1.480      -1.176\n",
      "==============================================================================\n",
      "Omnibus:                      144.075   Durbin-Watson:                   1.646\n",
      "Prob(Omnibus):                  0.000   Jarque-Bera (JB):              324.712\n",
      "Skew:                          -0.006   Prob(JB):                     3.09e-71\n",
      "Kurtosis:                       4.095   Cond. No.                     2.49e+05\n",
      "==============================================================================\n",
      "\n",
      "Warnings:\n",
      "[1] Standard Errors assume that the covariance matrix of the errors is correctly specified.\n",
      "[2] The condition number is large, 2.49e+05. This might indicate that there are\n",
      "strong multicollinearity or other numerical problems.\n",
      "\n",
      "Quantities you can extract from the result:\n",
      "['HC0_se', 'HC1_se', 'HC2_se', 'HC3_se', '_HCCM', '__class__', '__delattr__', '__dict__', '__dir__', '__doc__', '__eq__', '__format__', '__ge__', '__getattribute__', '__gt__', '__hash__', '__init__', '__init_subclass__', '__le__', '__lt__', '__module__', '__ne__', '__new__', '__reduce__', '__reduce_ex__', '__repr__', '__setattr__', '__sizeof__', '__str__', '__subclasshook__', '__weakref__', '_cache', '_data_attr', '_get_robustcov_results', '_is_nested', '_wexog_singular_values', 'aic', 'bic', 'bse', 'centered_tss', 'compare_f_test', 'compare_lm_test', 'compare_lr_test', 'condition_number', 'conf_int', 'conf_int_el', 'cov_HC0', 'cov_HC1', 'cov_HC2', 'cov_HC3', 'cov_kwds', 'cov_params', 'cov_type', 'df_model', 'df_resid', 'diagn', 'eigenvals', 'el_test', 'ess', 'f_pvalue', 'f_test', 'fittedvalues', 'fvalue', 'get_influence', 'get_prediction', 'get_robustcov_results', 'initialize', 'k_constant', 'llf', 'load', 'model', 'mse_model', 'mse_resid', 'mse_total', 'nobs', 'normalized_cov_params', 'outlier_test', 'params', 'predict', 'pvalues', 'remove_data', 'resid', 'resid_pearson', 'rsquared', 'rsquared_adj', 'save', 'scale', 'ssr', 'summary', 'summary2', 't_test', 'tvalues', 'uncentered_tss', 'use_t', 'wald_test', 'wald_test_terms', 'wresid']\n",
      "\n",
      "Coefficients:\n",
      "Intercept               55.762750\n",
      "alcohol                  0.267030\n",
      "chlorides               -0.483714\n",
      "citric_acid             -0.109657\n",
      "density                -54.966942\n",
      "fixed_acidity            0.067684\n",
      "free_sulfur_dioxide      0.005970\n",
      "pH                       0.439296\n",
      "residual_sugar           0.043559\n",
      "sulphates                0.768252\n",
      "total_sulfur_dioxide    -0.002481\n",
      "volatile_acidity        -1.327892\n",
      "dtype: float64\n",
      "\n",
      "Coefficient Std Errors:\n",
      "Intercept               11.893899\n",
      "alcohol                  0.016728\n",
      "chlorides                0.332683\n",
      "citric_acid              0.079619\n",
      "density                 12.137473\n",
      "fixed_acidity            0.015573\n",
      "free_sulfur_dioxide      0.000751\n",
      "pH                       0.090371\n",
      "residual_sugar           0.005156\n",
      "sulphates                0.076123\n",
      "total_sulfur_dioxide     0.000277\n",
      "volatile_acidity         0.077373\n",
      "dtype: float64\n",
      "\n",
      "Adj. R-squared:\n",
      "0.29\n",
      "\n",
      "F-statistic: 243.3  P-value: 0.00\n",
      "\n",
      "Number of obs: 6497  Number of fitted values: 6497\n"
     ]
    }
   ],
   "source": [
    "#  使用statsmodel 包来进行线性回归\n",
    "my_formula = 'quality ~ alcohol + chlorides + citric_acid + density\\\n",
    "+ fixed_acidity + free_sulfur_dioxide + pH + residual_sugar + sulphates\\\n",
    "+ total_sulfur_dioxide + volatile_acidity'\n",
    "lm = ols(my_formula, data=wine).fit()\n",
    "print(lm.summary())\n",
    "print(\"\\nQuantities you can extract from the result:\\n%s\" % dir(lm))\n",
    "print(\"\\nCoefficients:\\n%s\" % lm.params)\n",
    "print(\"\\nCoefficient Std Errors:\\n%s\" % lm.bse)\n",
    "print(\"\\nAdj. R-squared:\\n%.2f\" % lm.rsquared_adj)\n",
    "print(\"\\nF-statistic: %.1f  P-value: %.2f\" % (lm.fvalue, lm.f_pvalue))\n",
    "print(\"\\nNumber of obs: %d  Number of fitted values: %s\" % (lm.nobs, len(lm.fittedvalues)))"
   ]
  },
  {
   "cell_type": "code",
   "execution_count": 13,
   "metadata": {},
   "outputs": [
    {
     "name": "stdout",
     "output_type": "stream",
     "text": [
      "                            OLS Regression Results                            \n",
      "==============================================================================\n",
      "Dep. Variable:                quality   R-squared:                       0.292\n",
      "Model:                            OLS   Adj. R-squared:                  0.291\n",
      "Method:                 Least Squares   F-statistic:                     243.3\n",
      "Date:                Thu, 09 Nov 2017   Prob (F-statistic):               0.00\n",
      "Time:                        08:36:32   Log-Likelihood:                -7215.5\n",
      "No. Observations:                6497   AIC:                         1.445e+04\n",
      "Df Residuals:                    6485   BIC:                         1.454e+04\n",
      "Df Model:                          11                                         \n",
      "Covariance Type:            nonrobust                                         \n",
      "========================================================================================\n",
      "                           coef    std err          t      P>|t|      [0.025      0.975]\n",
      "----------------------------------------------------------------------------------------\n",
      "Intercept                5.8184      0.009    637.785      0.000       5.800       5.836\n",
      "alcohol                  0.3185      0.020     15.963      0.000       0.279       0.358\n",
      "chlorides               -0.0169      0.012     -1.454      0.146      -0.040       0.006\n",
      "citric_acid             -0.0159      0.012     -1.377      0.168      -0.039       0.007\n",
      "density                 -0.1648      0.036     -4.529      0.000      -0.236      -0.093\n",
      "fixed_acidity            0.0877      0.020      4.346      0.000       0.048       0.127\n",
      "free_sulfur_dioxide      0.1060      0.013      7.948      0.000       0.080       0.132\n",
      "pH                       0.0706      0.015      4.861      0.000       0.042       0.099\n",
      "residual_sugar           0.2072      0.025      8.449      0.000       0.159       0.255\n",
      "sulphates                0.1143      0.011     10.092      0.000       0.092       0.137\n",
      "total_sulfur_dioxide    -0.1402      0.016     -8.969      0.000      -0.171      -0.110\n",
      "volatile_acidity        -0.2186      0.013    -17.162      0.000      -0.244      -0.194\n",
      "==============================================================================\n",
      "Omnibus:                      144.075   Durbin-Watson:                   1.646\n",
      "Prob(Omnibus):                  0.000   Jarque-Bera (JB):              324.712\n",
      "Skew:                          -0.006   Prob(JB):                     3.09e-71\n",
      "Kurtosis:                       4.095   Cond. No.                         9.61\n",
      "==============================================================================\n",
      "\n",
      "Warnings:\n",
      "[1] Standard Errors assume that the covariance matrix of the errors is correctly specified.\n"
     ]
    }
   ],
   "source": [
    "# 创建一个名为dependent_variable的序列来保存质量数据\n",
    "dependent_variable = wine['quality']\n",
    "# 创建一个名为independent variables的数据框\n",
    "# 来保存初始的葡萄酒数据集中除quality、type和in_sample之外的所有变量\n",
    "independent_variables = wine[wine.columns.difference(['quality', 'type',\\\n",
    "'in_sample'])]\n",
    "# 对自变量进行标准化\n",
    "# 对每个变量，在每个观测中减去变量的均值\n",
    "# 并且使用结果除以变量的标准差\n",
    "independent_variables_standardized = (independent_variables -\\\n",
    "independent_variables.mean()) / independent_variables.std()\n",
    "# 将因变量quality作为一列添加到自变量数据框中\n",
    "# 创建一个带有标准化自变量的\n",
    "# 新数据集\n",
    "wine_standardized = pd.concat([dependent_variable, independent_variables\\\n",
    "_standardized], axis=1)\n",
    "# 重新进行线性回归，并查看一下摘要统计\n",
    "lm_standardized = ols(my_formula, data=wine_standardized).fit()\n",
    "print(lm_standardized.summary())"
   ]
  },
  {
   "cell_type": "code",
   "execution_count": 14,
   "metadata": {},
   "outputs": [
    {
     "name": "stdout",
     "output_type": "stream",
     "text": [
      "[5.0, 4.9199999999999999, 5.0300000000000002, 5.6799999999999997, 5.0, 5.04, 5.0199999999999996, 5.2999999999999998, 5.2400000000000002, 5.6900000000000004]\n"
     ]
    },
    {
     "name": "stderr",
     "output_type": "stream",
     "text": [
      "E:\\IDE\\anaconda3\\lib\\site-packages\\ipykernel_launcher.py:3: DeprecationWarning: \n",
      ".ix is deprecated. Please use\n",
      ".loc for label based indexing or\n",
      ".iloc for positional indexing\n",
      "\n",
      "See the documentation here:\n",
      "http://pandas.pydata.org/pandas-docs/stable/indexing.html#ix-indexer-is-deprecated\n",
      "  This is separate from the ipykernel package so we can avoid doing imports until\n"
     ]
    }
   ],
   "source": [
    "# 使用葡萄酒数据集中的前10个观测创建10个“新”观测\n",
    "# 新观测中只包含模型中使用的自变量\n",
    "new_observations = wine.ix[wine.index.isin(range(10)), \\\n",
    "independent_variables.columns]\n",
    "# 基于新观测中的葡萄酒特性预测质量评分\n",
    "y_predicted = lm.predict(new_observations)\n",
    "# 将预测值保留两位小数并打印到屏幕上\n",
    "y_predicted_rounded = [round(score, 2) for score in y_predicted]\n",
    "print(y_predicted_rounded)"
   ]
  },
  {
   "cell_type": "code",
   "execution_count": null,
   "metadata": {},
   "outputs": [],
   "source": []
  }
 ],
 "metadata": {
  "kernelspec": {
   "display_name": "Python 3",
   "language": "python",
   "name": "python3"
  },
  "language_info": {
   "codemirror_mode": {
    "name": "ipython",
    "version": 3
   },
   "file_extension": ".py",
   "mimetype": "text/x-python",
   "name": "python",
   "nbconvert_exporter": "python",
   "pygments_lexer": "ipython3",
   "version": "3.6.3"
  }
 },
 "nbformat": 4,
 "nbformat_minor": 2
}
