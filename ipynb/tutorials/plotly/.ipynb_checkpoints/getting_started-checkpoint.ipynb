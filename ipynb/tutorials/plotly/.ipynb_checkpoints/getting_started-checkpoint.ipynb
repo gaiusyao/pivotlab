{
 "cells": [
  {
   "cell_type": "code",
   "execution_count": 1,
   "metadata": {},
   "outputs": [],
   "source": [
    "import plotly \n",
    "plotly.tools.set_credentials_file(username='gaiusyao', api_key='hfEhMe5wqob6jPmO8qMg')"
   ]
  },
  {
   "cell_type": "code",
   "execution_count": 2,
   "metadata": {},
   "outputs": [
    {
     "data": {
      "text/html": [
       "\n",
       "<!DOCTYPE HTML>\n",
       "<html>\n",
       "  <head>\n",
       "    <style>\n",
       "      body {\n",
       "        margin: 0px;\n",
       "        padding: 0px;\n",
       "      }\n",
       "    </style>\n",
       "  </head>\n",
       "  <body>\n",
       "    <canvas id=\"myCanvas\" width=\"400\" height=\"400\"></canvas>\n",
       "    <script>\n",
       "      var canvas = document.getElementById('myCanvas');\n",
       "      var context = canvas.getContext('2d');\n",
       "      <!-- Dashboard -->\n",
       "      context.beginPath();\n",
       "      context.rect(0, 0, 400, 400);\n",
       "      context.lineWidth = 2;\n",
       "      context.strokeStyle = 'black';\n",
       "      context.stroke();\n",
       "      </script>\n",
       "  </body>\n",
       "</html>\n"
      ],
      "text/plain": [
       "<IPython.core.display.HTML object>"
      ]
     },
     "execution_count": 2,
     "metadata": {},
     "output_type": "execute_result"
    }
   ],
   "source": [
    "import plotly.dashboard_objs as dashboard\n",
    "\n",
    "import IPython.display\n",
    "from IPython.display import Image\n",
    "\n",
    "my_dboard = dashboard.Dashboard()\n",
    "my_dboard.get_preview()"
   ]
  },
  {
   "cell_type": "code",
   "execution_count": 3,
   "metadata": {},
   "outputs": [
    {
     "data": {
      "text/html": [
       "<iframe id=\"igraph\" scrolling=\"no\" style=\"border:none;\" seamless=\"seamless\" src=\"https://plot.ly/~gaiusyao/6.embed\" height=\"525px\" width=\"100%\"></iframe>"
      ],
      "text/plain": [
       "<plotly.tools.PlotlyDisplay object>"
      ]
     },
     "execution_count": 3,
     "metadata": {},
     "output_type": "execute_result"
    }
   ],
   "source": [
    "import plotly.graph_objs as go\n",
    "import plotly.plotly as py\n",
    "\n",
    "import numpy as np\n",
    "\n",
    "colorscale = [[0, '#FAEE1C'], [0.33, '#F3558E'], [0.66, '#9C1DE7'], [1, '#581B98']]\n",
    "trace1 = go.Scatter(\n",
    "    y = np.random.randn(500),\n",
    "    mode='markers',\n",
    "    marker=dict(\n",
    "        size='16',\n",
    "        color = np.random.randn(500),\n",
    "        colorscale=colorscale,\n",
    "        showscale=True\n",
    "    )\n",
    ")\n",
    "data = [trace1]\n",
    "url_1 = py.plot(data, filename='scatter-for-dashboard', auto_open=False)\n",
    "py.iplot(data, filename='scatter-for-dashboard')"
   ]
  },
  {
   "cell_type": "code",
   "execution_count": 4,
   "metadata": {},
   "outputs": [
    {
     "data": {
      "text/html": [
       "<iframe id=\"igraph\" scrolling=\"no\" style=\"border:none;\" seamless=\"seamless\" src=\"https://plot.ly/~gaiusyao/8.embed\" height=\"525px\" width=\"100%\"></iframe>"
      ],
      "text/plain": [
       "<plotly.tools.PlotlyDisplay object>"
      ]
     },
     "execution_count": 4,
     "metadata": {},
     "output_type": "execute_result"
    }
   ],
   "source": [
    "import plotly.plotly as py\n",
    "import plotly.graph_objs as go\n",
    "\n",
    "import numpy as np\n",
    "\n",
    "x0 = np.random.randn(50)\n",
    "x1 = np.random.randn(50) + 2\n",
    "x2 = np.random.randn(50) + 4\n",
    "x3 = np.random.randn(50) + 6\n",
    "\n",
    "colors = ['#FAEE1C', '#F3558E', '#9C1DE7', '#581B98']\n",
    "\n",
    "trace0 = go.Box(x=x0, marker={'color': colors[0]})\n",
    "trace1 = go.Box(x=x1, marker={'color': colors[1]})\n",
    "trace2 = go.Box(x=x2, marker={'color': colors[2]})\n",
    "trace3 = go.Box(x=x3, marker={'color': colors[3]})\n",
    "data = [trace0, trace1, trace2, trace3]\n",
    "\n",
    "url_2 = py.plot(data, filename='box-plots-for-dashboard', auto_open=False)\n",
    "py.iplot(data, filename='box-plots-for-dashboard')"
   ]
  },
  {
   "cell_type": "code",
   "execution_count": 5,
   "metadata": {},
   "outputs": [
    {
     "data": {
      "text/plain": [
       "'https://plot.ly/~gaiusyao/8'"
      ]
     },
     "execution_count": 5,
     "metadata": {},
     "output_type": "execute_result"
    }
   ],
   "source": [
    "url_2"
   ]
  },
  {
   "cell_type": "code",
   "execution_count": 6,
   "metadata": {},
   "outputs": [],
   "source": [
    "import re\n",
    "\n",
    "def fileId_from_url(url):\n",
    "    \"\"\"Return fileId from a url.\"\"\"\n",
    "    raw_fileId = re.findall(\"~[A-z]+/[0-9]+\", url)[0][1: ]\n",
    "    return raw_fileId.replace('/', ':')\n",
    "\n",
    "def sharekey_from_url(url):\n",
    "    \"\"\"Return the sharekey from a url.\"\"\"\n",
    "    if 'share_key=' not in url:\n",
    "        return \"This url is not 'sercret'. It does not have a secret key.\"\n",
    "    return url[url.find('share_key=') + len('share_key='):]\n",
    "\n",
    "fileId_1 = fileId_from_url(url_1)\n",
    "fileId_2 = fileId_from_url(url_2)\n",
    "\n",
    "box_a = {\n",
    "    'type': 'box',\n",
    "    'boxType': 'plot',\n",
    "    'fileId': fileId_1,\n",
    "    'title': 'scatter-for-dashboard'\n",
    "}\n",
    "\n",
    "text_for_box = \"\"\" \n",
    "## Distributions: \n",
    "\n",
    "\n",
    "#### Scatter Plot\n",
    "1. Ranging 0 - 500\n",
    "2. Even distribution\n",
    "\n",
    "#### Box Plot\n",
    "1. Similar Range\n",
    "2. Outliers present in trace 1 and trace 3\n",
    "\n",
    "You can view more markdown tips [here](https://daringfireball.net/projects/markdown/syntax).\n",
    "\"\"\"\n",
    "\n",
    "box_b = {\n",
    "    'type': 'box',\n",
    "    'boxType': 'text',\n",
    "    'text': text_for_box,\n",
    "    'title': 'Markdown Options for Text Box'\n",
    "}\n",
    "\n",
    "box_c = {\n",
    "    'type': 'box',\n",
    "    'boxType': 'plot',\n",
    "    'fileId': fileId_2,\n",
    "    'title': 'box-for-dashboard',\n",
    "    'shareKey': sharekey_from_url(url_2)\n",
    "}\n",
    "\n",
    "my_dboard.insert(box_a)"
   ]
  },
  {
   "cell_type": "code",
   "execution_count": 7,
   "metadata": {},
   "outputs": [],
   "source": [
    "my_dboard.insert(box_b, 'above', 1)"
   ]
  },
  {
   "cell_type": "code",
   "execution_count": 8,
   "metadata": {},
   "outputs": [],
   "source": [
    "my_dboard.insert(box_c, 'left', 2)"
   ]
  },
  {
   "cell_type": "code",
   "execution_count": 9,
   "metadata": {},
   "outputs": [
    {
     "data": {
      "text/plain": [
       "{'boxType': 'text',\n",
       " 'text': ' \\n## Distributions: \\n\\n\\n#### Scatter Plot\\n1. Ranging 0 - 500\\n2. Even distribution\\n\\n#### Box Plot\\n1. Similar Range\\n2. Outliers present in trace 1 and trace 3\\n\\nYou can view more markdown tips [here](https://daringfireball.net/projects/markdown/syntax).\\n',\n",
       " 'title': 'Markdown Options for Text Box',\n",
       " 'type': 'box'}"
      ]
     },
     "execution_count": 9,
     "metadata": {},
     "output_type": "execute_result"
    }
   ],
   "source": [
    "my_dboard.get_box(1)"
   ]
  },
  {
   "cell_type": "code",
   "execution_count": 10,
   "metadata": {},
   "outputs": [
    {
     "data": {
      "text/plain": [
       "{'boxType': 'text',\n",
       " 'text': ' \\n## Distributions: \\n\\n\\n#### Scatter Plot\\n1. Ranging 0 - 500\\n2. Even distribution\\n\\n#### Box Plot\\n1. Similar Range\\n2. Outliers present in trace 1 and trace 3\\n\\nYou can view more markdown tips [here](https://daringfireball.net/projects/markdown/syntax).\\n',\n",
       " 'title': 'a new title',\n",
       " 'type': 'box'}"
      ]
     },
     "execution_count": 10,
     "metadata": {},
     "output_type": "execute_result"
    }
   ],
   "source": [
    "my_dboard.get_box(1)['title'] = 'a new title'\n",
    "my_dboard.get_box(1)"
   ]
  },
  {
   "cell_type": "code",
   "execution_count": 11,
   "metadata": {},
   "outputs": [
    {
     "data": {
      "text/plain": [
       "'scatter-for-dashboard'"
      ]
     },
     "execution_count": 11,
     "metadata": {},
     "output_type": "execute_result"
    }
   ],
   "source": [
    "my_dboard.get_box(3)['title']"
   ]
  },
  {
   "cell_type": "code",
   "execution_count": 12,
   "metadata": {},
   "outputs": [
    {
     "data": {
      "text/plain": [
       "'box-for-dashboard'"
      ]
     },
     "execution_count": 12,
     "metadata": {},
     "output_type": "execute_result"
    }
   ],
   "source": [
    "my_dboard.swap(2, 3)\n",
    "my_dboard.get_box(3)['title']"
   ]
  },
  {
   "cell_type": "code",
   "execution_count": 13,
   "metadata": {},
   "outputs": [],
   "source": [
    "my_dboard.insert(box_a, 'below', 2)"
   ]
  },
  {
   "cell_type": "code",
   "execution_count": 14,
   "metadata": {},
   "outputs": [],
   "source": [
    "my_dboard.remove(2)"
   ]
  },
  {
   "cell_type": "code",
   "execution_count": 15,
   "metadata": {},
   "outputs": [],
   "source": [
    "my_dboard['settings']['title'] = 'My First Dashboard with Python'"
   ]
  },
  {
   "cell_type": "code",
   "execution_count": 16,
   "metadata": {},
   "outputs": [],
   "source": [
    "my_dboard['settings']['logoUrl'] = 'https://images.plot.ly/language-icons/api-home/python-logo.png'"
   ]
  },
  {
   "cell_type": "code",
   "execution_count": 17,
   "metadata": {},
   "outputs": [],
   "source": [
    "my_dboard['settings']['links'] = []\n",
    "my_dboard['settings']['links'].append({'title': 'Link to Plotly', 'url': 'https://plot.ly/'})\n",
    "my_dboard['settings']['links'].append({'title': 'Link to Python Website', 'url': 'https://www.python.org/'})"
   ]
  },
  {
   "cell_type": "code",
   "execution_count": 18,
   "metadata": {},
   "outputs": [],
   "source": [
    "\n",
    "my_dboard['settings']['foregroundColor'] = '#000000'\n",
    "my_dboard['settings']['backgroundColor'] = '#adcaea'\n",
    "my_dboard['settings']['headerForegroundColor'] = '#ffffff'\n",
    "my_dboard['settings']['headerBackgroundColor'] = '#D232C8'\n",
    "my_dboard['settings']['boxBackgroundColor'] = '#ffffff'\n",
    "my_dboard['settings']['boxBorderColor'] = '#000000'\n",
    "my_dboard['settings']['boxHeaderBackgroundColor'] = '#ffffff'"
   ]
  },
  {
   "cell_type": "code",
   "execution_count": 19,
   "metadata": {},
   "outputs": [],
   "source": [
    "stacked_dboard = dashboard.Dashboard()\n",
    "text_box = {\n",
    "    'type': 'box',\n",
    "    'boxType': 'text',\n",
    "    'text': 'empty space' \n",
    "}\n",
    "for _ in range(5):\n",
    "    stacked_dboard.insert(text_box, 'below', 1)"
   ]
  },
  {
   "cell_type": "code",
   "execution_count": 20,
   "metadata": {},
   "outputs": [],
   "source": [
    "stacked_dboard['layout']['size'] = 3000"
   ]
  },
  {
   "cell_type": "code",
   "execution_count": 21,
   "metadata": {},
   "outputs": [
    {
     "ename": "KeyError",
     "evalue": "'first'",
     "output_type": "error",
     "traceback": [
      "\u001b[1;31m---------------------------------------------------------------------------\u001b[0m",
      "\u001b[1;31mKeyError\u001b[0m                                  Traceback (most recent call last)",
      "\u001b[1;32m<ipython-input-21-61004850fc75>\u001b[0m in \u001b[0;36m<module>\u001b[1;34m()\u001b[0m\n\u001b[1;32m----> 1\u001b[1;33m \u001b[0mmy_dboard\u001b[0m\u001b[1;33m[\u001b[0m\u001b[1;34m'layout'\u001b[0m\u001b[1;33m]\u001b[0m\u001b[1;33m[\u001b[0m\u001b[1;34m'first'\u001b[0m\u001b[1;33m]\u001b[0m\u001b[1;33m[\u001b[0m\u001b[1;34m'first'\u001b[0m\u001b[1;33m]\u001b[0m\u001b[1;33m[\u001b[0m\u001b[1;34m'first'\u001b[0m\u001b[1;33m]\u001b[0m\u001b[1;33m[\u001b[0m\u001b[1;34m'text'\u001b[0m\u001b[1;33m]\u001b[0m \u001b[1;33m=\u001b[0m \u001b[0mtext_for_box\u001b[0m\u001b[1;33m\u001b[0m\u001b[0m\n\u001b[0m",
      "\u001b[1;31mKeyError\u001b[0m: 'first'"
     ]
    }
   ],
   "source": [
    "my_dboard['layout']['first']['first']['first']['text'] = text_for_box"
   ]
  },
  {
   "cell_type": "code",
   "execution_count": 22,
   "metadata": {},
   "outputs": [
    {
     "data": {
      "text/plain": [
       "'https://plot.ly/~gaiusyao/10/my-first-dashboard-with-python/'"
      ]
     },
     "execution_count": 22,
     "metadata": {},
     "output_type": "execute_result"
    }
   ],
   "source": [
    "import plotly.plotly as py\n",
    "py.dashboard_ops.upload(my_dboard, 'My First Dashboard with Python')"
   ]
  },
  {
   "cell_type": "code",
   "execution_count": null,
   "metadata": {},
   "outputs": [],
   "source": []
  }
 ],
 "metadata": {
  "kernelspec": {
   "display_name": "Python 3",
   "language": "python",
   "name": "python3"
  },
  "language_info": {
   "codemirror_mode": {
    "name": "ipython",
    "version": 3
   },
   "file_extension": ".py",
   "mimetype": "text/x-python",
   "name": "python",
   "nbconvert_exporter": "python",
   "pygments_lexer": "ipython3",
   "version": "3.6.3"
  }
 },
 "nbformat": 4,
 "nbformat_minor": 2
}
